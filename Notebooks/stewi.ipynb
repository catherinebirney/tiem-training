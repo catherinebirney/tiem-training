{
  "nbformat": 4,
  "nbformat_minor": 0,
  "metadata": {
    "colab": {
      "provenance": [],
      "authorship_tag": "ABX9TyNpjWC6x8wcdMxi0kCek9/A",
      "include_colab_link": true
    },
    "kernelspec": {
      "name": "python3",
      "display_name": "Python 3"
    },
    "language_info": {
      "name": "python"
    }
  },
  "cells": [
    {
      "cell_type": "markdown",
      "metadata": {
        "id": "view-in-github",
        "colab_type": "text"
      },
      "source": [
        "<a href=\"https://colab.research.google.com/github/catherinebirney/tiem-training/blob/main/Notebooks/stewi.ipynb\" target=\"_parent\"><img src=\"https://colab.research.google.com/assets/colab-badge.svg\" alt=\"Open In Colab\"/></a>"
      ]
    },
    {
      "cell_type": "markdown",
      "source": [
        "# Standardized Emission and Waste Inventories (StEWI)\n",
        "\n",
        "StEWI is a collection of Python modules that provide processed USEPA facility-based emission and waste generation inventory data in standard tabular formats. The standard outputs may be further aggregated or filtered based on given criteria, and can be combined based on common facility and flows across the inventories."
      ],
      "metadata": {
        "id": "B9GlSnVVUcrm"
      }
    },
    {
      "cell_type": "code",
      "execution_count": null,
      "metadata": {
        "id": "Gyhq7ul2pZm6"
      },
      "outputs": [],
      "source": [
        "# Clone the repository from GitHub into the local colab environment\n",
        "!git clone https://github.com/USEPA/standardizedinventories.git"
      ]
    },
    {
      "cell_type": "code",
      "source": [
        "# Install the locally cloned repository to have access to the root files\n",
        "%cd standardizedinventories\n",
        "!pip install -e ."
      ],
      "metadata": {
        "id": "FloSCAbDSrBR"
      },
      "execution_count": null,
      "outputs": []
    },
    {
      "cell_type": "code",
      "source": [
        "import stewi\n",
        "import pandas as pd\n",
        "import numpy as np"
      ],
      "metadata": {
        "id": "FlMoUgW4WAjj"
      },
      "execution_count": null,
      "outputs": []
    },
    {
      "cell_type": "markdown",
      "source": [
        "## Accessing Data\n",
        "Data in StEWI can be accessed in a number of formats:\n",
        "- [Flow](https://github.com/USEPA/standardizedinventories/blob/master/format%20specs/Flow.md)\n",
        "- [Facility](https://github.com/USEPA/standardizedinventories/blob/master/format%20specs/Facility.md)\n",
        "- [FlowByFacility](https://github.com/USEPA/standardizedinventories/blob/master/format%20specs/FlowByFacility.md)\n",
        "- [FlowByProcess](https://github.com/USEPA/standardizedinventories/blob/master/format%20specs/FlowByProcess.md)\n",
        "\n",
        "Attempting to retreive data for the first time (e.g., via `stewi.getInventory()` or `stewi.getInventoryFacilities()`) will cause StEWI to run the appropriate modules to access the public data directly from their source. Alternatively, use `download_if_missing=True` to obtain the StEWI processed data that has been validated and published to the [EPA Data Commons](https://dmap-data-commons-ord.s3.amazonaws.com/index.html?prefix=#stewi/). StEWI will always use data stored locally first, before attempting to download or generate the data."
      ],
      "metadata": {
        "id": "vcvn9h22Xzfa"
      }
    },
    {
      "cell_type": "code",
      "source": [
        "# Review the available data in StEWI\n",
        "stewi.getAllInventoriesandYears()"
      ],
      "metadata": {
        "id": "rNkA7mXVYpbD"
      },
      "execution_count": null,
      "outputs": []
    },
    {
      "cell_type": "code",
      "source": [
        "# Download and review the 2017 NEI\n",
        "NEI = stewi.getInventory('NEI', 2017, download_if_missing=True)\n",
        "print(NEI)\n",
        "print(f'Number of unique flows: {len(NEI.FlowName.unique())}')\n",
        "print(f'Number of unique facilities: {len(NEI.FacilityID.unique())}')"
      ],
      "metadata": {
        "id": "lxcY562Pq1NW"
      },
      "execution_count": null,
      "outputs": []
    },
    {
      "cell_type": "markdown",
      "source": [
        "NEI and GHGRP are also available as `FlowByProcess` format, which provides the data at sub-facility level. For the NEI, this means emissions are reported by facility by [Source Classification Code (SCC)](https://sor-scc-api.epa.gov/sccwebservices/sccsearch/) while the GHGRP is aggregated by [GHGRP Subpart](https://www.epa.gov/ghgreporting/resources-subpart-ghg-reporting)."
      ],
      "metadata": {
        "id": "SYgvVhwuXJh5"
      }
    },
    {
      "cell_type": "code",
      "source": [
        "# NEI and GHGRP are also available as FlowByProcess\n",
        "GHGRP = stewi.getInventory('GHGRP', year=2021, stewiformat='flowbyprocess', download_if_missing=True)\n",
        "print(GHGRP)\n",
        "print(f'Available GHGRP Subparts: {GHGRP.Process.unique()}')"
      ],
      "metadata": {
        "id": "F2seJ-XNU7bR"
      },
      "execution_count": null,
      "outputs": []
    },
    {
      "cell_type": "code",
      "source": [
        "# Review the totals by Flow\n",
        "GHGRP.pivot_table(index=['FlowName', 'Unit'], values='FlowAmount', columns='Process',\n",
        "                  aggfunc='sum', margins=True, margins_name='Total', fill_value=0)"
      ],
      "metadata": {
        "id": "lIJfFVgHW7HR"
      },
      "execution_count": null,
      "outputs": []
    },
    {
      "cell_type": "markdown",
      "source": [
        "The facilities file contains detailed information on every facility reporting to the program. In the case of eGRID, this includes additional details on facility resource mix."
      ],
      "metadata": {
        "id": "3MH6ax3Jg4Vj"
      }
    },
    {
      "cell_type": "code",
      "source": [
        "# Review facilities in eGRID\n",
        "egrid = stewi.getInventoryFacilities('eGRID', 2018, download_if_missing=True)\n",
        "print(egrid.columns)\n",
        "print(egrid)"
      ],
      "metadata": {
        "id": "3x1NzxT3fNi5"
      },
      "execution_count": null,
      "outputs": []
    },
    {
      "cell_type": "markdown",
      "source": [
        "## Challenge Questions\n",
        "1. What state reports the most facilities for a dataset? Does it change over time?\n",
        "2. What are the top 3 GHGRP Subparts with the most Methane emissions?\n",
        "3. How many pollutants (emissions to air) are reported in eGRID?\n",
        "\n",
        "\n",
        "## Extreme TIEM Challenge\n",
        "What is the total characterized impacts (i.e., Global Warming Potential, Smog Formation Potential, etc.) of all reported facilities from a dataset?\n",
        "  - Hint 1: Use [apply_flow_mapping](https://github.com/USEPA/esupy/blob/main/esupy/mapping.py#L11-L12) from `esupy.mapping` to convert the flows from a data source to the FEDEFL.\n",
        "  - Hint 2: Use [apply_lcia_method](https://github.com/USEPA/LCIAformatter/blob/master/lciafmt/__init__.py#L268) from `lciafmt` to apply your desired LCIA method."
      ],
      "metadata": {
        "id": "mvWKgXBna0yj"
      }
    },
    {
      "cell_type": "markdown",
      "source": [
        "# stewicombo\n",
        "The `stewicombo` module of [StEWI](https://github.com/USEPA/standardizedinventories) combines inventory data from within and across selected inventories by matching facilities in the [Facility Registry Service](https://www.epa.gov/frs) and chemical flows using the [Substance Registry Service](https://sor.epa.gov/sor_internet/registry/substreg/LandingPage.do).\n",
        "If the `remove_overlap` parameter is set to True (default), `stewicombo` combines records using the following default logic:\n",
        "- Records that share a common compartment, SRS ID and FRS ID _within_ an inventory are summed.\n",
        "- Records that share a common compartment, SRS ID and FRS ID _across_ an inventory are assessed by compartment preference (see `INVENTORY_PREFERENCE_BY_COMPARTMENT`).\n",
        "- Additional steps are taken to avoid overlap of:\n",
        "    - nutrient flow releases to water between the TRI and DMR\n",
        "    - particulate matter releases to air reflecting PM < 10 and PM < 2.5 in the NEI\n",
        "    - [Volatile Organic Compound (VOC)](https://github.com/USEPA/standardizedinventories/blob/master/stewicombo/data/VOC_SRS_IDs.csv) releases to air for individually reported VOCs and grouped VOCs"
      ],
      "metadata": {
        "id": "qhxqWcGROSlG"
      }
    },
    {
      "cell_type": "code",
      "source": [
        "import stewicombo\n",
        "import facilitymatcher\n",
        "import chemicalmatcher"
      ],
      "metadata": {
        "id": "pXVXditjOfrb"
      },
      "execution_count": null,
      "outputs": []
    },
    {
      "cell_type": "code",
      "source": [
        "# Download and review the dataset of facility matches\n",
        "fac_matches = facilitymatcher.get_matches_for_inventories()"
      ],
      "metadata": {
        "id": "_FxURYIBOlNs"
      },
      "execution_count": null,
      "outputs": []
    },
    {
      "cell_type": "code",
      "source": [
        "print(f'Datasets found: {fac_matches.Source.unique()}')\n",
        "fac_matches"
      ],
      "metadata": {
        "id": "UJqJTCxmP5Sj"
      },
      "execution_count": null,
      "outputs": []
    },
    {
      "cell_type": "code",
      "source": [
        "# Combine select datasets\n",
        "inv_dict = {\"NEI\":\"2017\", \"TRI\":\"2017\"}\n",
        "df = stewicombo.combineFullInventories(inv_dict, filter_for_LCI=True,\n",
        "                                        remove_overlap=True,\n",
        "                                        compartments=['air'],\n",
        "                                        download_if_missing=True)"
      ],
      "metadata": {
        "id": "Gi1Rs_L_OX9I"
      },
      "execution_count": null,
      "outputs": []
    },
    {
      "cell_type": "code",
      "source": [
        "df"
      ],
      "metadata": {
        "id": "JxkPKLQWOcaC"
      },
      "execution_count": null,
      "outputs": []
    }
  ]
}