{
  "nbformat": 4,
  "nbformat_minor": 0,
  "metadata": {
    "colab": {
      "provenance": [],
      "authorship_tag": "ABX9TyOKgXKg3G+4yA1AwJofd3vG",
      "include_colab_link": true
    },
    "kernelspec": {
      "name": "python3",
      "display_name": "Python 3"
    },
    "language_info": {
      "name": "python"
    }
  },
  "cells": [
    {
      "cell_type": "markdown",
      "metadata": {
        "id": "view-in-github",
        "colab_type": "text"
      },
      "source": [
        "<a href=\"https://colab.research.google.com/github/catherinebirney/tiem-training/blob/main/Notebooks/stewi.ipynb\" target=\"_parent\"><img src=\"https://colab.research.google.com/assets/colab-badge.svg\" alt=\"Open In Colab\"/></a>"
      ]
    },
    {
      "cell_type": "markdown",
      "source": [
        "# Standardized Emission and Waste Inventories (StEWI)\n",
        "\n",
        "StEWI is a collection of Python modules that provide processed USEPA facility-based emission and waste generation inventory data in standard tabular formats. The standard outputs may be further aggregated or filtered based on given criteria, and can be combined based on common facility and flows across the inventories."
      ],
      "metadata": {
        "id": "B9GlSnVVUcrm"
      }
    },
    {
      "cell_type": "code",
      "execution_count": null,
      "metadata": {
        "id": "Gyhq7ul2pZm6"
      },
      "outputs": [],
      "source": [
        "# Clone the repository from GitHub into the local colab environment\n",
        "!git clone https://github.com/USEPA/standardizedinventories.git"
      ]
    },
    {
      "cell_type": "code",
      "source": [
        "# Install the locally cloned repository to have access to the root files\n",
        "%cd standardizedinventories\n",
        "!pip install -e ."
      ],
      "metadata": {
        "id": "FloSCAbDSrBR"
      },
      "execution_count": null,
      "outputs": []
    },
    {
      "cell_type": "code",
      "source": [
        "import stewi\n",
        "import pandas as pd\n",
        "import numpy as np"
      ],
      "metadata": {
        "id": "FlMoUgW4WAjj"
      },
      "execution_count": 14,
      "outputs": []
    },
    {
      "cell_type": "markdown",
      "source": [
        "## Accessing Data\n",
        "Attempting to retreive data for the first time, e.g., via `stewi.getInventory()` or `stewi.getInventoryFacilities()` will cause StEWI to run the appropriate modules to access the public data directly from their source. Alternatively, use `download_if_missing=True` to obtain the StEWI processed data that has been validated and published to the [EPA Data Commons](https://dmap-data-commons-ord.s3.amazonaws.com/index.html?prefix=#stewi/)."
      ],
      "metadata": {
        "id": "vcvn9h22Xzfa"
      }
    },
    {
      "cell_type": "code",
      "source": [
        "# Review the available data in StEWI\n",
        "stewi.getAllInventoriesandYears()"
      ],
      "metadata": {
        "id": "rNkA7mXVYpbD"
      },
      "execution_count": null,
      "outputs": []
    },
    {
      "cell_type": "code",
      "source": [
        "# Download and review the 2017 NEI\n",
        "NEI = stewi.getInventory('NEI', 2017, download_if_missing=True)\n",
        "print(NEI)\n",
        "print(f'Number of unique flows: {len(NEI.FlowName.unique())}')\n",
        "print(f'Number of unique facilities: {len(NEI.FacilityID.unique())}')"
      ],
      "metadata": {
        "id": "lxcY562Pq1NW"
      },
      "execution_count": null,
      "outputs": []
    },
    {
      "cell_type": "markdown",
      "source": [
        "NEI and GHGRP are also available as `FlowByProcess` format, which provides the data at sub-facility level. For the NEI, this means emissions are reported by facility by [Source Classification Code (SCC)](https://sor-scc-api.epa.gov/sccwebservices/sccsearch/) while the GHGRP is aggregated by [GHGRP Subpart](https://www.epa.gov/ghgreporting/resources-subpart-ghg-reporting)."
      ],
      "metadata": {
        "id": "SYgvVhwuXJh5"
      }
    },
    {
      "cell_type": "code",
      "source": [
        "# NEI and GHGRP are also available as FlowByProcess\n",
        "GHGRP = stewi.getInventory('GHGRP', year=2021, stewiformat='flowbyprocess', download_if_missing=True)\n",
        "print(GHGRP)\n",
        "print(f'Available GHGRP Subparts: {GHGRP.Process.unique()}')"
      ],
      "metadata": {
        "id": "F2seJ-XNU7bR"
      },
      "execution_count": null,
      "outputs": []
    },
    {
      "cell_type": "code",
      "source": [
        "# Review the totals by Flow\n",
        "GHGRP.pivot_table(index=['FlowName', 'Unit'], values='FlowAmount', columns='Process',\n",
        "                  aggfunc='sum', margins=True, margins_name='Total', fill_value=0)"
      ],
      "metadata": {
        "id": "lIJfFVgHW7HR"
      },
      "execution_count": null,
      "outputs": []
    },
    {
      "cell_type": "markdown",
      "source": [
        "## Challenge Questions\n",
        "1. What state reports the most facilities for a dataset? Does it change over time?\n",
        "2. What are the top 3 GHGRP Subparts with the most Methane emissions?\n",
        "\n",
        "\n",
        "## Extreme TIEM Challenge\n",
        "What is the total characterized impacts (i.e., Global Warming Potential, Smog Formation Potential, etc.) of all reported facilities from a dataset?\n",
        "  - Hint 1: Use [apply_flow_mapping](https://github.com/USEPA/esupy/blob/main/esupy/mapping.py#L11-L12) from `esupy.mapping` to convert the flows from a data source to the FEDEFL.\n",
        "  - Hint 2: Use [apply_lcia_method](https://github.com/USEPA/LCIAformatter/blob/master/lciafmt/__init__.py#L268) from `lciafmt` to apply your desired LCIA method."
      ],
      "metadata": {
        "id": "mvWKgXBna0yj"
      }
    }
  ]
}