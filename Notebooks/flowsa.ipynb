{
  "nbformat": 4,
  "nbformat_minor": 0,
  "metadata": {
    "colab": {
      "provenance": [],
      "authorship_tag": "ABX9TyOkM6AGCrJepdrlAoqJW3yk",
      "include_colab_link": true
    },
    "kernelspec": {
      "name": "python3",
      "display_name": "Python 3"
    },
    "language_info": {
      "name": "python"
    }
  },
  "cells": [
    {
      "cell_type": "markdown",
      "metadata": {
        "id": "view-in-github",
        "colab_type": "text"
      },
      "source": [
        "<a href=\"https://colab.research.google.com/github/catherinebirney/tiem-training/blob/main/Notebooks/flowsa.ipynb\" target=\"_parent\"><img src=\"https://colab.research.google.com/assets/colab-badge.svg\" alt=\"Open In Colab\"/></a>"
      ]
    },
    {
      "cell_type": "markdown",
      "source": [
        "FLOWSA Overview\n",
        "\n",
        "FLOWSA is a Python package designed to streamline attributing environmental, economic, emission, waste, material, and other data to industry and end-use sectors.\n",
        "FLOWSA pulls data from primary environmental and economic sources (generally government or other publicly available sources), that use a variety of terminology and units, and attributes those data to standardized classification and units.\n",
        "Data can be attributed to sectors that produce the data and/or sectors that consume the data.\n",
        "This way, a single row in a dataset captures the generation of, the consumption of, or the direct flow of environmental/economic data between two sectors.\n",
        "For example, we can capture water withdrawals consumed by wheat farming (Sector-Consumed-By) or the movement of water from public supply withdrawals (Sector-Produced-By) to domestic use (Sector-Consumed-By)."
      ],
      "metadata": {
        "id": "1RvCJsU_iV-E"
      }
    },
    {
      "cell_type": "markdown",
      "source": [
        "Clone the FLOWSA GitHub repository so we can edit method files."
      ],
      "metadata": {
        "id": "rWXR64nhPadT"
      }
    },
    {
      "cell_type": "code",
      "source": [
        "!git clone https://github.com/USEPA/flowsa.git"
      ],
      "metadata": {
        "id": "2mC1EAIcLnPa"
      },
      "execution_count": null,
      "outputs": []
    },
    {
      "cell_type": "markdown",
      "source": [
        "Install the FLOWSA package."
      ],
      "metadata": {
        "id": "TSs7H7RjHEdQ"
      }
    },
    {
      "cell_type": "code",
      "source": [
        "!pip install git+https://github.com/USEPA/flowsa.git@pandas"
      ],
      "metadata": {
        "id": "WaXL0I2fHJhP"
      },
      "execution_count": null,
      "outputs": []
    },
    {
      "cell_type": "markdown",
      "source": [
        "Flow-By-Activity Data\n",
        "\n",
        "Flow-By-Activity (FBA) datasets are environmental and other data imported from government, peer-reviewed, or proprietary sources and formatted into [standardized tables](https://github.com/USEPA/flowsa/blob/master/format%20specs/FlowByActivity.md).\n",
        "These data are largely unchanged from the original data source, except for formatting.\n",
        "FBA datasets retain original source terminology and units.\n",
        "The defining columns for an FBA dataset are the \"ActivityProducedBy\" and \"ActivityConsumedBy\" columns.\n",
        "These columns contain the \"activity\" that produces or consumes the environmental/economic data.\n",
        "The FBA tables can include optional columns, but all FBAs must contain a number of the same columns.\n",
        "One such optional column is \"Suppressed\" which can be used to indicate which rows contain suppressed data and then used in source-specific functions to estimate suppressed data."
      ],
      "metadata": {
        "id": "v01YjuzgL0wX"
      }
    },
    {
      "cell_type": "markdown",
      "source": [
        "Import FLOWSA and print out the available FBA models."
      ],
      "metadata": {
        "id": "pg1wIalcPsqq"
      }
    },
    {
      "cell_type": "code",
      "source": [
        "import flowsa\n",
        "# see all datasources and years available in flowsa\n",
        "flowsa.seeAvailableFlowByModels('FBA')\n",
        "# FLOW-BY-ACTIVITY\n",
        "from flowsa import getFlowByActivity, seeAvailableFlowByModels\n",
        "from flowsa.settings import fbaoutputpath\n",
        "\n",
        "# see all datasources and years available in flowsa\n",
        "seeAvailableFlowByModels('FBA')"
      ],
      "metadata": {
        "id": "Go0Q9mZXL60p"
      },
      "execution_count": null,
      "outputs": []
    },
    {
      "cell_type": "markdown",
      "source": [
        "Generate an FBA model."
      ],
      "metadata": {
        "id": "a5bIsgb_P6Hh"
      }
    },
    {
      "cell_type": "code",
      "source": [
        "# Load all information for one GHGI Table\n",
        "fba = getFlowByActivity(datasource=\"EPA_GHGI_T_5_29\", year=2021)"
      ],
      "metadata": {
        "id": "wbxj1lKxP9oG"
      },
      "execution_count": null,
      "outputs": []
    },
    {
      "cell_type": "markdown",
      "source": [
        "Flow-By-Sector Datasets\n",
        "\n",
        "Flow-By-Sector (FBS) datasets capture the direct resource generation or consumption by sectors, or the movement of data between sectors.\n",
        "FBS datasets are standardized tables generated by attributing FBA and/or other FBS data to sectors.\n",
        "The FBS tables contain standard columns as defined in [format specs/FlowBySector.md](https://github.com/USEPA/flowsa/blob/master/format%20specs/FlowBySector.md).\n",
        "FBS datasets can be created from a single FBA, multiple FBAs, or a combination of FBA and FBS datasets.\n",
        "The defining columns for an FBS are the \"SectorProducedBy\" and \"SectorConsumedBy\" columns.\n",
        "These columns contain the _sector_ that produces or consumes the environmental/economic data."
      ],
      "metadata": {
        "id": "0slw_wpmi3Fl"
      }
    }
  ]
}